{
 "cells": [
  {
   "cell_type": "markdown",
   "id": "9cce415a",
   "metadata": {
    "papermill": {
     "duration": 0.007581,
     "end_time": "2023-05-29T14:48:10.580048",
     "exception": false,
     "start_time": "2023-05-29T14:48:10.572467",
     "status": "completed"
    },
    "tags": []
   },
   "source": [
    "# Class 12"
   ]
  },
  {
   "cell_type": "code",
   "execution_count": 1,
   "id": "f8d8a8f9",
   "metadata": {
    "execution": {
     "iopub.execute_input": "2023-05-29T14:48:10.596725Z",
     "iopub.status.busy": "2023-05-29T14:48:10.596267Z",
     "iopub.status.idle": "2023-05-29T14:48:13.727804Z",
     "shell.execute_reply": "2023-05-29T14:48:13.726158Z"
    },
    "papermill": {
     "duration": 3.143922,
     "end_time": "2023-05-29T14:48:13.731497",
     "exception": false,
     "start_time": "2023-05-29T14:48:10.587575",
     "status": "completed"
    },
    "tags": []
   },
   "outputs": [],
   "source": [
    "import warnings \n",
    "warnings.filterwarnings('ignore')\n",
    "\n",
    "import pandas as pd \n",
    "import numpy as np\n",
    "from matplotlib import pyplot as plt\n",
    "import seaborn as sns\n",
    "\n",
    "from sklearn.metrics import classification_report, confusion_matrix, accuracy_score, mean_absolute_error, mean_squared_error\n",
    "\n",
    "from sklearn.model_selection import train_test_split\n",
    "from sklearn import tree\n",
    "from sklearn.tree import DecisionTreeClassifier as Clf\n",
    "from sklearn.linear_model import LinearRegression \n",
    "\n",
    "from sklearn.preprocessing import MinMaxScaler\n",
    "from sklearn.preprocessing import LabelEncoder as le\n",
    "\n",
    "from pandas.core.dtypes.common import is_numeric_dtype\n",
    "import plotly.express as px\n",
    "import plotly.graph_objects as go"
   ]
  },
  {
   "cell_type": "code",
   "execution_count": 2,
   "id": "95b03325",
   "metadata": {
    "execution": {
     "iopub.execute_input": "2023-05-29T14:48:13.748270Z",
     "iopub.status.busy": "2023-05-29T14:48:13.747845Z",
     "iopub.status.idle": "2023-05-29T14:48:13.780897Z",
     "shell.execute_reply": "2023-05-29T14:48:13.779661Z"
    },
    "papermill": {
     "duration": 0.045008,
     "end_time": "2023-05-29T14:48:13.783884",
     "exception": false,
     "start_time": "2023-05-29T14:48:13.738876",
     "status": "completed"
    },
    "tags": []
   },
   "outputs": [],
   "source": [
    "df = pd.read_csv('/kaggle/input/data-visualizatiion/insurance.csv')"
   ]
  },
  {
   "cell_type": "code",
   "execution_count": 3,
   "id": "357428f4",
   "metadata": {
    "execution": {
     "iopub.execute_input": "2023-05-29T14:48:13.800353Z",
     "iopub.status.busy": "2023-05-29T14:48:13.799932Z",
     "iopub.status.idle": "2023-05-29T14:48:13.808219Z",
     "shell.execute_reply": "2023-05-29T14:48:13.807042Z"
    },
    "papermill": {
     "duration": 0.019874,
     "end_time": "2023-05-29T14:48:13.811076",
     "exception": false,
     "start_time": "2023-05-29T14:48:13.791202",
     "status": "completed"
    },
    "tags": []
   },
   "outputs": [
    {
     "data": {
      "text/plain": [
       "(1338, 7)"
      ]
     },
     "execution_count": 3,
     "metadata": {},
     "output_type": "execute_result"
    }
   ],
   "source": [
    "df.shape"
   ]
  },
  {
   "cell_type": "code",
   "execution_count": 4,
   "id": "740ab57b",
   "metadata": {
    "execution": {
     "iopub.execute_input": "2023-05-29T14:48:13.827513Z",
     "iopub.status.busy": "2023-05-29T14:48:13.827054Z",
     "iopub.status.idle": "2023-05-29T14:48:13.860831Z",
     "shell.execute_reply": "2023-05-29T14:48:13.859109Z"
    },
    "papermill": {
     "duration": 0.04557,
     "end_time": "2023-05-29T14:48:13.863965",
     "exception": false,
     "start_time": "2023-05-29T14:48:13.818395",
     "status": "completed"
    },
    "tags": []
   },
   "outputs": [
    {
     "data": {
      "text/html": [
       "<div>\n",
       "<style scoped>\n",
       "    .dataframe tbody tr th:only-of-type {\n",
       "        vertical-align: middle;\n",
       "    }\n",
       "\n",
       "    .dataframe tbody tr th {\n",
       "        vertical-align: top;\n",
       "    }\n",
       "\n",
       "    .dataframe thead th {\n",
       "        text-align: right;\n",
       "    }\n",
       "</style>\n",
       "<table border=\"1\" class=\"dataframe\">\n",
       "  <thead>\n",
       "    <tr style=\"text-align: right;\">\n",
       "      <th></th>\n",
       "      <th>age</th>\n",
       "      <th>sex</th>\n",
       "      <th>bmi</th>\n",
       "      <th>children</th>\n",
       "      <th>smoker</th>\n",
       "      <th>region</th>\n",
       "      <th>charges</th>\n",
       "    </tr>\n",
       "  </thead>\n",
       "  <tbody>\n",
       "    <tr>\n",
       "      <th>0</th>\n",
       "      <td>19</td>\n",
       "      <td>female</td>\n",
       "      <td>27.900</td>\n",
       "      <td>0</td>\n",
       "      <td>yes</td>\n",
       "      <td>southwest</td>\n",
       "      <td>16884.92400</td>\n",
       "    </tr>\n",
       "    <tr>\n",
       "      <th>1</th>\n",
       "      <td>18</td>\n",
       "      <td>male</td>\n",
       "      <td>33.770</td>\n",
       "      <td>1</td>\n",
       "      <td>no</td>\n",
       "      <td>southeast</td>\n",
       "      <td>1725.55230</td>\n",
       "    </tr>\n",
       "    <tr>\n",
       "      <th>2</th>\n",
       "      <td>28</td>\n",
       "      <td>male</td>\n",
       "      <td>33.000</td>\n",
       "      <td>3</td>\n",
       "      <td>no</td>\n",
       "      <td>southeast</td>\n",
       "      <td>4449.46200</td>\n",
       "    </tr>\n",
       "    <tr>\n",
       "      <th>3</th>\n",
       "      <td>33</td>\n",
       "      <td>male</td>\n",
       "      <td>22.705</td>\n",
       "      <td>0</td>\n",
       "      <td>no</td>\n",
       "      <td>northwest</td>\n",
       "      <td>21984.47061</td>\n",
       "    </tr>\n",
       "    <tr>\n",
       "      <th>4</th>\n",
       "      <td>32</td>\n",
       "      <td>male</td>\n",
       "      <td>28.880</td>\n",
       "      <td>0</td>\n",
       "      <td>no</td>\n",
       "      <td>northwest</td>\n",
       "      <td>3866.85520</td>\n",
       "    </tr>\n",
       "  </tbody>\n",
       "</table>\n",
       "</div>"
      ],
      "text/plain": [
       "   age     sex     bmi  children smoker     region      charges\n",
       "0   19  female  27.900         0    yes  southwest  16884.92400\n",
       "1   18    male  33.770         1     no  southeast   1725.55230\n",
       "2   28    male  33.000         3     no  southeast   4449.46200\n",
       "3   33    male  22.705         0     no  northwest  21984.47061\n",
       "4   32    male  28.880         0     no  northwest   3866.85520"
      ]
     },
     "execution_count": 4,
     "metadata": {},
     "output_type": "execute_result"
    }
   ],
   "source": [
    "df.head()"
   ]
  },
  {
   "cell_type": "code",
   "execution_count": 5,
   "id": "fcd5ef69",
   "metadata": {
    "execution": {
     "iopub.execute_input": "2023-05-29T14:48:13.882872Z",
     "iopub.status.busy": "2023-05-29T14:48:13.881886Z",
     "iopub.status.idle": "2023-05-29T14:48:13.911965Z",
     "shell.execute_reply": "2023-05-29T14:48:13.910774Z"
    },
    "papermill": {
     "duration": 0.042703,
     "end_time": "2023-05-29T14:48:13.914413",
     "exception": false,
     "start_time": "2023-05-29T14:48:13.871710",
     "status": "completed"
    },
    "tags": []
   },
   "outputs": [
    {
     "data": {
      "text/html": [
       "<div>\n",
       "<style scoped>\n",
       "    .dataframe tbody tr th:only-of-type {\n",
       "        vertical-align: middle;\n",
       "    }\n",
       "\n",
       "    .dataframe tbody tr th {\n",
       "        vertical-align: top;\n",
       "    }\n",
       "\n",
       "    .dataframe thead th {\n",
       "        text-align: right;\n",
       "    }\n",
       "</style>\n",
       "<table border=\"1\" class=\"dataframe\">\n",
       "  <thead>\n",
       "    <tr style=\"text-align: right;\">\n",
       "      <th></th>\n",
       "      <th>age</th>\n",
       "      <th>bmi</th>\n",
       "      <th>children</th>\n",
       "      <th>charges</th>\n",
       "    </tr>\n",
       "  </thead>\n",
       "  <tbody>\n",
       "    <tr>\n",
       "      <th>count</th>\n",
       "      <td>1338.000000</td>\n",
       "      <td>1338.000000</td>\n",
       "      <td>1338.000000</td>\n",
       "      <td>1338.000000</td>\n",
       "    </tr>\n",
       "    <tr>\n",
       "      <th>mean</th>\n",
       "      <td>39.207025</td>\n",
       "      <td>30.663397</td>\n",
       "      <td>1.094918</td>\n",
       "      <td>13270.422265</td>\n",
       "    </tr>\n",
       "    <tr>\n",
       "      <th>std</th>\n",
       "      <td>14.049960</td>\n",
       "      <td>6.098187</td>\n",
       "      <td>1.205493</td>\n",
       "      <td>12110.011237</td>\n",
       "    </tr>\n",
       "    <tr>\n",
       "      <th>min</th>\n",
       "      <td>18.000000</td>\n",
       "      <td>15.960000</td>\n",
       "      <td>0.000000</td>\n",
       "      <td>1121.873900</td>\n",
       "    </tr>\n",
       "    <tr>\n",
       "      <th>25%</th>\n",
       "      <td>27.000000</td>\n",
       "      <td>26.296250</td>\n",
       "      <td>0.000000</td>\n",
       "      <td>4740.287150</td>\n",
       "    </tr>\n",
       "    <tr>\n",
       "      <th>50%</th>\n",
       "      <td>39.000000</td>\n",
       "      <td>30.400000</td>\n",
       "      <td>1.000000</td>\n",
       "      <td>9382.033000</td>\n",
       "    </tr>\n",
       "    <tr>\n",
       "      <th>75%</th>\n",
       "      <td>51.000000</td>\n",
       "      <td>34.693750</td>\n",
       "      <td>2.000000</td>\n",
       "      <td>16639.912515</td>\n",
       "    </tr>\n",
       "    <tr>\n",
       "      <th>max</th>\n",
       "      <td>64.000000</td>\n",
       "      <td>53.130000</td>\n",
       "      <td>5.000000</td>\n",
       "      <td>63770.428010</td>\n",
       "    </tr>\n",
       "  </tbody>\n",
       "</table>\n",
       "</div>"
      ],
      "text/plain": [
       "               age          bmi     children       charges\n",
       "count  1338.000000  1338.000000  1338.000000   1338.000000\n",
       "mean     39.207025    30.663397     1.094918  13270.422265\n",
       "std      14.049960     6.098187     1.205493  12110.011237\n",
       "min      18.000000    15.960000     0.000000   1121.873900\n",
       "25%      27.000000    26.296250     0.000000   4740.287150\n",
       "50%      39.000000    30.400000     1.000000   9382.033000\n",
       "75%      51.000000    34.693750     2.000000  16639.912515\n",
       "max      64.000000    53.130000     5.000000  63770.428010"
      ]
     },
     "execution_count": 5,
     "metadata": {},
     "output_type": "execute_result"
    }
   ],
   "source": [
    "df.describe()"
   ]
  },
  {
   "cell_type": "code",
   "execution_count": 6,
   "id": "64474c87",
   "metadata": {
    "execution": {
     "iopub.execute_input": "2023-05-29T14:48:13.931415Z",
     "iopub.status.busy": "2023-05-29T14:48:13.930977Z",
     "iopub.status.idle": "2023-05-29T14:48:13.941980Z",
     "shell.execute_reply": "2023-05-29T14:48:13.940904Z"
    },
    "papermill": {
     "duration": 0.022353,
     "end_time": "2023-05-29T14:48:13.944376",
     "exception": false,
     "start_time": "2023-05-29T14:48:13.922023",
     "status": "completed"
    },
    "tags": []
   },
   "outputs": [
    {
     "data": {
      "text/plain": [
       "age         0\n",
       "sex         0\n",
       "bmi         0\n",
       "children    0\n",
       "smoker      0\n",
       "region      0\n",
       "charges     0\n",
       "dtype: int64"
      ]
     },
     "execution_count": 6,
     "metadata": {},
     "output_type": "execute_result"
    }
   ],
   "source": [
    "df.isnull().sum()"
   ]
  },
  {
   "cell_type": "code",
   "execution_count": 7,
   "id": "5411e952",
   "metadata": {
    "execution": {
     "iopub.execute_input": "2023-05-29T14:48:13.961984Z",
     "iopub.status.busy": "2023-05-29T14:48:13.961552Z",
     "iopub.status.idle": "2023-05-29T14:48:14.524083Z",
     "shell.execute_reply": "2023-05-29T14:48:14.522898Z"
    },
    "papermill": {
     "duration": 0.574576,
     "end_time": "2023-05-29T14:48:14.526967",
     "exception": false,
     "start_time": "2023-05-29T14:48:13.952391",
     "status": "completed"
    },
    "tags": []
   },
   "outputs": [
    {
     "data": {
      "text/plain": [
       "<Axes: >"
      ]
     },
     "execution_count": 7,
     "metadata": {},
     "output_type": "execute_result"
    },
    {
     "data": {
      "image/png": "[encoded data removed]",
      "text/plain": [
       "<Figure size 640x480 with 1 Axes>"
      ]
     },
     "metadata": {},
     "output_type": "display_data"
    }
   ],
   "source": [
    "df.plot()"
   ]
  },
  {
   "cell_type": "markdown",
   "id": "f3cf15c5",
   "metadata": {
    "papermill": {
     "duration": 0.009454,
     "end_time": "2023-05-29T14:48:14.547948",
     "exception": false,
     "start_time": "2023-05-29T14:48:14.538494",
     "status": "completed"
    },
    "tags": []
   },
   "source": [
    "## Label Encoding"
   ]
  },
  {
   "cell_type": "code",
   "execution_count": 8,
   "id": "7fd00933",
   "metadata": {
    "execution": {
     "iopub.execute_input": "2023-05-29T14:48:14.567255Z",
     "iopub.status.busy": "2023-05-29T14:48:14.566819Z",
     "iopub.status.idle": "2023-05-29T14:48:14.579044Z",
     "shell.execute_reply": "2023-05-29T14:48:14.577834Z"
    },
    "papermill": {
     "duration": 0.025568,
     "end_time": "2023-05-29T14:48:14.582311",
     "exception": false,
     "start_time": "2023-05-29T14:48:14.556743",
     "status": "completed"
    },
    "tags": []
   },
   "outputs": [],
   "source": [
    "le = le()\n",
    "for column in df.columns:\n",
    "    if df[column].dtype==np.number:\n",
    "        continue\n",
    "    else:\n",
    "        df[column]=le.fit_transform(df[column])"
   ]
  },
  {
   "cell_type": "markdown",
   "id": "7a76219c",
   "metadata": {
    "papermill": {
     "duration": 0.008434,
     "end_time": "2023-05-29T14:48:14.599862",
     "exception": false,
     "start_time": "2023-05-29T14:48:14.591428",
     "status": "completed"
    },
    "tags": []
   },
   "source": [
    "## Split Dataset"
   ]
  },
  {
   "cell_type": "code",
   "execution_count": 9,
   "id": "0f214fb1",
   "metadata": {
    "execution": {
     "iopub.execute_input": "2023-05-29T14:48:14.619641Z",
     "iopub.status.busy": "2023-05-29T14:48:14.619173Z",
     "iopub.status.idle": "2023-05-29T14:48:14.634162Z",
     "shell.execute_reply": "2023-05-29T14:48:14.632921Z"
    },
    "papermill": {
     "duration": 0.028067,
     "end_time": "2023-05-29T14:48:14.636656",
     "exception": false,
     "start_time": "2023-05-29T14:48:14.608589",
     "status": "completed"
    },
    "tags": []
   },
   "outputs": [
    {
     "data": {
      "text/html": [
       "<div>\n",
       "<style scoped>\n",
       "    .dataframe tbody tr th:only-of-type {\n",
       "        vertical-align: middle;\n",
       "    }\n",
       "\n",
       "    .dataframe tbody tr th {\n",
       "        vertical-align: top;\n",
       "    }\n",
       "\n",
       "    .dataframe thead th {\n",
       "        text-align: right;\n",
       "    }\n",
       "</style>\n",
       "<table border=\"1\" class=\"dataframe\">\n",
       "  <thead>\n",
       "    <tr style=\"text-align: right;\">\n",
       "      <th></th>\n",
       "      <th>age</th>\n",
       "      <th>sex</th>\n",
       "      <th>bmi</th>\n",
       "      <th>children</th>\n",
       "      <th>smoker</th>\n",
       "      <th>region</th>\n",
       "      <th>charges</th>\n",
       "    </tr>\n",
       "  </thead>\n",
       "  <tbody>\n",
       "    <tr>\n",
       "      <th>0</th>\n",
       "      <td>1</td>\n",
       "      <td>0</td>\n",
       "      <td>27.900</td>\n",
       "      <td>0</td>\n",
       "      <td>1</td>\n",
       "      <td>3</td>\n",
       "      <td>16884.92400</td>\n",
       "    </tr>\n",
       "    <tr>\n",
       "      <th>1</th>\n",
       "      <td>0</td>\n",
       "      <td>1</td>\n",
       "      <td>33.770</td>\n",
       "      <td>1</td>\n",
       "      <td>0</td>\n",
       "      <td>2</td>\n",
       "      <td>1725.55230</td>\n",
       "    </tr>\n",
       "    <tr>\n",
       "      <th>2</th>\n",
       "      <td>10</td>\n",
       "      <td>1</td>\n",
       "      <td>33.000</td>\n",
       "      <td>3</td>\n",
       "      <td>0</td>\n",
       "      <td>2</td>\n",
       "      <td>4449.46200</td>\n",
       "    </tr>\n",
       "    <tr>\n",
       "      <th>3</th>\n",
       "      <td>15</td>\n",
       "      <td>1</td>\n",
       "      <td>22.705</td>\n",
       "      <td>0</td>\n",
       "      <td>0</td>\n",
       "      <td>1</td>\n",
       "      <td>21984.47061</td>\n",
       "    </tr>\n",
       "    <tr>\n",
       "      <th>4</th>\n",
       "      <td>14</td>\n",
       "      <td>1</td>\n",
       "      <td>28.880</td>\n",
       "      <td>0</td>\n",
       "      <td>0</td>\n",
       "      <td>1</td>\n",
       "      <td>3866.85520</td>\n",
       "    </tr>\n",
       "  </tbody>\n",
       "</table>\n",
       "</div>"
      ],
      "text/plain": [
       "   age  sex     bmi  children  smoker  region      charges\n",
       "0    1    0  27.900         0       1       3  16884.92400\n",
       "1    0    1  33.770         1       0       2   1725.55230\n",
       "2   10    1  33.000         3       0       2   4449.46200\n",
       "3   15    1  22.705         0       0       1  21984.47061\n",
       "4   14    1  28.880         0       0       1   3866.85520"
      ]
     },
     "execution_count": 9,
     "metadata": {},
     "output_type": "execute_result"
    }
   ],
   "source": [
    "df.head()"
   ]
  },
  {
   "cell_type": "code",
   "execution_count": 10,
   "id": "5763f6b0",
   "metadata": {
    "execution": {
     "iopub.execute_input": "2023-05-29T14:48:14.657345Z",
     "iopub.status.busy": "2023-05-29T14:48:14.656898Z",
     "iopub.status.idle": "2023-05-29T14:48:14.668125Z",
     "shell.execute_reply": "2023-05-29T14:48:14.666984Z"
    },
    "papermill": {
     "duration": 0.024904,
     "end_time": "2023-05-29T14:48:14.670653",
     "exception": false,
     "start_time": "2023-05-29T14:48:14.645749",
     "status": "completed"
    },
    "tags": []
   },
   "outputs": [],
   "source": [
    "x = df.drop(['charges'],axis=1)\n",
    "y = df['charges']"
   ]
  },
  {
   "cell_type": "code",
   "execution_count": 11,
   "id": "04cf667b",
   "metadata": {
    "execution": {
     "iopub.execute_input": "2023-05-29T14:48:14.691957Z",
     "iopub.status.busy": "2023-05-29T14:48:14.691518Z",
     "iopub.status.idle": "2023-05-29T14:48:14.707073Z",
     "shell.execute_reply": "2023-05-29T14:48:14.705802Z"
    },
    "papermill": {
     "duration": 0.029269,
     "end_time": "2023-05-29T14:48:14.709900",
     "exception": false,
     "start_time": "2023-05-29T14:48:14.680631",
     "status": "completed"
    },
    "tags": []
   },
   "outputs": [
    {
     "data": {
      "text/html": [
       "<div>\n",
       "<style scoped>\n",
       "    .dataframe tbody tr th:only-of-type {\n",
       "        vertical-align: middle;\n",
       "    }\n",
       "\n",
       "    .dataframe tbody tr th {\n",
       "        vertical-align: top;\n",
       "    }\n",
       "\n",
       "    .dataframe thead th {\n",
       "        text-align: right;\n",
       "    }\n",
       "</style>\n",
       "<table border=\"1\" class=\"dataframe\">\n",
       "  <thead>\n",
       "    <tr style=\"text-align: right;\">\n",
       "      <th></th>\n",
       "      <th>age</th>\n",
       "      <th>sex</th>\n",
       "      <th>bmi</th>\n",
       "      <th>children</th>\n",
       "      <th>smoker</th>\n",
       "      <th>region</th>\n",
       "    </tr>\n",
       "  </thead>\n",
       "  <tbody>\n",
       "    <tr>\n",
       "      <th>0</th>\n",
       "      <td>1</td>\n",
       "      <td>0</td>\n",
       "      <td>27.900</td>\n",
       "      <td>0</td>\n",
       "      <td>1</td>\n",
       "      <td>3</td>\n",
       "    </tr>\n",
       "    <tr>\n",
       "      <th>1</th>\n",
       "      <td>0</td>\n",
       "      <td>1</td>\n",
       "      <td>33.770</td>\n",
       "      <td>1</td>\n",
       "      <td>0</td>\n",
       "      <td>2</td>\n",
       "    </tr>\n",
       "    <tr>\n",
       "      <th>2</th>\n",
       "      <td>10</td>\n",
       "      <td>1</td>\n",
       "      <td>33.000</td>\n",
       "      <td>3</td>\n",
       "      <td>0</td>\n",
       "      <td>2</td>\n",
       "    </tr>\n",
       "    <tr>\n",
       "      <th>3</th>\n",
       "      <td>15</td>\n",
       "      <td>1</td>\n",
       "      <td>22.705</td>\n",
       "      <td>0</td>\n",
       "      <td>0</td>\n",
       "      <td>1</td>\n",
       "    </tr>\n",
       "    <tr>\n",
       "      <th>4</th>\n",
       "      <td>14</td>\n",
       "      <td>1</td>\n",
       "      <td>28.880</td>\n",
       "      <td>0</td>\n",
       "      <td>0</td>\n",
       "      <td>1</td>\n",
       "    </tr>\n",
       "  </tbody>\n",
       "</table>\n",
       "</div>"
      ],
      "text/plain": [
       "   age  sex     bmi  children  smoker  region\n",
       "0    1    0  27.900         0       1       3\n",
       "1    0    1  33.770         1       0       2\n",
       "2   10    1  33.000         3       0       2\n",
       "3   15    1  22.705         0       0       1\n",
       "4   14    1  28.880         0       0       1"
      ]
     },
     "execution_count": 11,
     "metadata": {},
     "output_type": "execute_result"
    }
   ],
   "source": [
    "x.head()"
   ]
  },
  {
   "cell_type": "code",
   "execution_count": 12,
   "id": "f6b55b1a",
   "metadata": {
    "execution": {
     "iopub.execute_input": "2023-05-29T14:48:14.730866Z",
     "iopub.status.busy": "2023-05-29T14:48:14.730054Z",
     "iopub.status.idle": "2023-05-29T14:48:14.737750Z",
     "shell.execute_reply": "2023-05-29T14:48:14.736884Z"
    },
    "papermill": {
     "duration": 0.020755,
     "end_time": "2023-05-29T14:48:14.739951",
     "exception": false,
     "start_time": "2023-05-29T14:48:14.719196",
     "status": "completed"
    },
    "tags": []
   },
   "outputs": [
    {
     "data": {
      "text/plain": [
       "0    16884.92400\n",
       "1     1725.55230\n",
       "2     4449.46200\n",
       "3    21984.47061\n",
       "4     3866.85520\n",
       "Name: charges, dtype: float64"
      ]
     },
     "execution_count": 12,
     "metadata": {},
     "output_type": "execute_result"
    }
   ],
   "source": [
    "y.head()"
   ]
  },
  {
   "cell_type": "code",
   "execution_count": 13,
   "id": "bf6a4502",
   "metadata": {
    "execution": {
     "iopub.execute_input": "2023-05-29T14:48:14.761077Z",
     "iopub.status.busy": "2023-05-29T14:48:14.760462Z",
     "iopub.status.idle": "2023-05-29T14:48:14.766979Z",
     "shell.execute_reply": "2023-05-29T14:48:14.766085Z"
    },
    "papermill": {
     "duration": 0.02006,
     "end_time": "2023-05-29T14:48:14.769559",
     "exception": false,
     "start_time": "2023-05-29T14:48:14.749499",
     "status": "completed"
    },
    "tags": []
   },
   "outputs": [],
   "source": [
    "# train test\n",
    "xtrain, xtest, ytrain, ytest = train_test_split(x,y,test_size=0.30,random_state=1)"
   ]
  },
  {
   "cell_type": "markdown",
   "id": "810010c9",
   "metadata": {
    "papermill": {
     "duration": 0.009255,
     "end_time": "2023-05-29T14:48:14.788945",
     "exception": false,
     "start_time": "2023-05-29T14:48:14.779690",
     "status": "completed"
    },
    "tags": []
   },
   "source": [
    "## Linear Regression"
   ]
  },
  {
   "cell_type": "code",
   "execution_count": 14,
   "id": "f10d65f1",
   "metadata": {
    "execution": {
     "iopub.execute_input": "2023-05-29T14:48:14.809963Z",
     "iopub.status.busy": "2023-05-29T14:48:14.809503Z",
     "iopub.status.idle": "2023-05-29T14:48:14.845903Z",
     "shell.execute_reply": "2023-05-29T14:48:14.844671Z"
    },
    "papermill": {
     "duration": 0.05021,
     "end_time": "2023-05-29T14:48:14.848776",
     "exception": false,
     "start_time": "2023-05-29T14:48:14.798566",
     "status": "completed"
    },
    "tags": []
   },
   "outputs": [
    {
     "data": {
      "text/html": [
       "<style>#sk-container-id-1 {color: black;background-color: white;}#sk-container-id-1 pre{padding: 0;}#sk-container-id-1 div.sk-toggleable {background-color: white;}#sk-container-id-1 label.sk-toggleable__label {cursor: pointer;display: block;width: 100%;margin-bottom: 0;padding: 0.3em;box-sizing: border-box;text-align: center;}#sk-container-id-1 label.sk-toggleable__label-arrow:before {content: \"▸\";float: left;margin-right: 0.25em;color: #696969;}#sk-container-id-1 label.sk-toggleable__label-arrow:hover:before {color: black;}#sk-container-id-1 div.sk-estimator:hover label.sk-toggleable__label-arrow:before {color: black;}#sk-container-id-1 div.sk-toggleable__content {max-height: 0;max-width: 0;overflow: hidden;text-align: left;background-color: #f0f8ff;}#sk-container-id-1 div.sk-toggleable__content pre {margin: 0.2em;color: black;border-radius: 0.25em;background-color: #f0f8ff;}#sk-container-id-1 input.sk-toggleable__control:checked~div.sk-toggleable__content {max-height: 200px;max-width: 100%;overflow: auto;}#sk-container-id-1 input.sk-toggleable__control:checked~label.sk-toggleable__label-arrow:before {content: \"▾\";}#sk-container-id-1 div.sk-estimator input.sk-toggleable__control:checked~label.sk-toggleable__label {background-color: #d4ebff;}#sk-container-id-1 div.sk-label input.sk-toggleable__control:checked~label.sk-toggleable__label {background-color: #d4ebff;}#sk-container-id-1 input.sk-hidden--visually {border: 0;clip: rect(1px 1px 1px 1px);clip: rect(1px, 1px, 1px, 1px);height: 1px;margin: -1px;overflow: hidden;padding: 0;position: absolute;width: 1px;}#sk-container-id-1 div.sk-estimator {font-family: monospace;background-color: #f0f8ff;border: 1px dotted black;border-radius: 0.25em;box-sizing: border-box;margin-bottom: 0.5em;}#sk-container-id-1 div.sk-estimator:hover {background-color: #d4ebff;}#sk-container-id-1 div.sk-parallel-item::after {content: \"\";width: 100%;border-bottom: 1px solid gray;flex-grow: 1;}#sk-container-id-1 div.sk-label:hover label.sk-toggleable__label {background-color: #d4ebff;}#sk-container-id-1 div.sk-serial::before {content: \"\";position: absolute;border-left: 1px solid gray;box-sizing: border-box;top: 0;bottom: 0;left: 50%;z-index: 0;}#sk-container-id-1 div.sk-serial {display: flex;flex-direction: column;align-items: center;background-color: white;padding-right: 0.2em;padding-left: 0.2em;position: relative;}#sk-container-id-1 div.sk-item {position: relative;z-index: 1;}#sk-container-id-1 div.sk-parallel {display: flex;align-items: stretch;justify-content: center;background-color: white;position: relative;}#sk-container-id-1 div.sk-item::before, #sk-container-id-1 div.sk-parallel-item::before {content: \"\";position: absolute;border-left: 1px solid gray;box-sizing: border-box;top: 0;bottom: 0;left: 50%;z-index: -1;}#sk-container-id-1 div.sk-parallel-item {display: flex;flex-direction: column;z-index: 1;position: relative;background-color: white;}#sk-container-id-1 div.sk-parallel-item:first-child::after {align-self: flex-end;width: 50%;}#sk-container-id-1 div.sk-parallel-item:last-child::after {align-self: flex-start;width: 50%;}#sk-container-id-1 div.sk-parallel-item:only-child::after {width: 0;}#sk-container-id-1 div.sk-dashed-wrapped {border: 1px dashed gray;margin: 0 0.4em 0.5em 0.4em;box-sizing: border-box;padding-bottom: 0.4em;background-color: white;}#sk-container-id-1 div.sk-label label {font-family: monospace;font-weight: bold;display: inline-block;line-height: 1.2em;}#sk-container-id-1 div.sk-label-container {text-align: center;}#sk-container-id-1 div.sk-container {/* jupyter's `normalize.less` sets `[hidden] { display: none; }` but bootstrap.min.css set `[hidden] { display: none !important; }` so we also need the `!important` here to be able to override the default hidden behavior on the sphinx rendered scikit-learn.org. See: https://github.com/scikit-learn/scikit-learn/issues/21755 */display: inline-block !important;position: relative;}#sk-container-id-1 div.sk-text-repr-fallback {display: none;}</style><div id=\"sk-container-id-1\" class=\"sk-top-container\"><div class=\"sk-text-repr-fallback\"><pre>LinearRegression()</pre><b>In a Jupyter environment, please rerun this cell to show the HTML representation or trust the notebook. <br />On GitHub, the HTML representation is unable to render, please try loading this page with nbviewer.org.</b></div><div class=\"sk-container\" hidden><div class=\"sk-item\"><div class=\"sk-estimator sk-toggleable\"><input class=\"sk-toggleable__control sk-hidden--visually\" id=\"sk-estimator-id-1\" type=\"checkbox\" checked><label for=\"sk-estimator-id-1\" class=\"sk-toggleable__label sk-toggleable__label-arrow\">LinearRegression</label><div class=\"sk-toggleable__content\"><pre>LinearRegression()</pre></div></div></div></div></div>"
      ],
      "text/plain": [
       "LinearRegression()"
      ]
     },
     "execution_count": 14,
     "metadata": {},
     "output_type": "execute_result"
    }
   ],
   "source": [
    "reg = LinearRegression()\n",
    "reg.fit(xtrain,ytrain)"
   ]
  },
  {
   "cell_type": "code",
   "execution_count": 15,
   "id": "3fbb416a",
   "metadata": {
    "execution": {
     "iopub.execute_input": "2023-05-29T14:48:14.870556Z",
     "iopub.status.busy": "2023-05-29T14:48:14.870131Z",
     "iopub.status.idle": "2023-05-29T14:48:14.877985Z",
     "shell.execute_reply": "2023-05-29T14:48:14.876684Z"
    },
    "papermill": {
     "duration": 0.021606,
     "end_time": "2023-05-29T14:48:14.880465",
     "exception": false,
     "start_time": "2023-05-29T14:48:14.858859",
     "status": "completed"
    },
    "tags": []
   },
   "outputs": [],
   "source": [
    "y_pred = reg.predict(xtest)"
   ]
  },
  {
   "cell_type": "code",
   "execution_count": 16,
   "id": "aa797637",
   "metadata": {
    "execution": {
     "iopub.execute_input": "2023-05-29T14:48:14.902400Z",
     "iopub.status.busy": "2023-05-29T14:48:14.901989Z",
     "iopub.status.idle": "2023-05-29T14:48:14.914665Z",
     "shell.execute_reply": "2023-05-29T14:48:14.913608Z"
    },
    "papermill": {
     "duration": 0.026547,
     "end_time": "2023-05-29T14:48:14.917180",
     "exception": false,
     "start_time": "2023-05-29T14:48:14.890633",
     "status": "completed"
    },
    "scrolled": true,
    "tags": []
   },
   "outputs": [
    {
     "data": {
      "text/plain": [
       "array([ 4.50048433e+03,  1.28194579e+04,  1.23977127e+04,  1.34303433e+04,\n",
       "        5.31776110e+02,  3.22642696e+04,  1.30762461e+04,  1.22348298e+04,\n",
       "        3.82932402e+03,  3.01565286e+04,  1.13198257e+04,  1.72084618e+04,\n",
       "        8.91832075e+03,  8.22883518e+03,  3.58166904e+03,  1.01918742e+04,\n",
       "        3.97134424e+03,  6.75521017e+03,  1.52141457e+04,  1.42498228e+04,\n",
       "        1.24184207e+04,  3.34497470e+04,  9.12417099e+03,  8.85380484e+03,\n",
       "        3.13406481e+03,  8.14417612e+03,  9.33914668e+03,  1.10793027e+04,\n",
       "        7.54531559e+03,  4.40537383e+03,  1.39112972e+04,  5.64886526e+03,\n",
       "        3.46827850e+04,  2.74022377e+04,  3.38105315e+04,  9.52560370e+03,\n",
       "        3.06087668e+04,  2.67066855e+04,  1.54113111e+04,  3.41398489e+04,\n",
       "        6.63468968e+03,  1.39736793e+04,  1.08971678e+04,  1.47980620e+04,\n",
       "        4.09741953e+03,  1.29622798e+04,  4.71597335e+03,  2.92771692e+04,\n",
       "        7.31791501e+03,  1.39529721e+04,  1.35190763e+04,  1.20798653e+04,\n",
       "        2.00264361e+03,  8.64372471e+03,  2.63767332e+04,  1.04916779e+04,\n",
       "        3.46735735e+04,  1.43468920e+04,  3.23348994e+03,  6.29736567e+03,\n",
       "        6.98470140e+03,  1.47780171e+04,  2.76393453e+04,  3.44489525e+03,\n",
       "        1.56083432e+04,  1.11420819e+04,  1.09545431e+04,  1.07407418e+04,\n",
       "        1.67519076e+03,  2.56544038e+04,  3.75895810e+04,  3.33336941e+04,\n",
       "        2.04616985e+03,  1.12035200e+04,  1.35991275e+04,  3.50861055e+04,\n",
       "        3.27463889e+03,  4.30118673e+03,  1.02364297e+04,  1.03546112e+04,\n",
       "        3.23442584e+01,  1.39306887e+04,  1.03085784e+04,  3.15238012e+03,\n",
       "        3.36380576e+04,  3.36105256e+04,  7.05773057e+03,  3.81603776e+04,\n",
       "        1.26761191e+04,  1.02501825e+04,  3.04850509e+04,  3.40650631e+04,\n",
       "        1.48087422e+04,  1.10825989e+04,  4.11113654e+02,  1.08403252e+04,\n",
       "        9.48537761e+03,  1.51224946e+04,  1.49163628e+04,  6.01879160e+03,\n",
       "        1.36012493e+04,  2.64495142e+04,  2.82131435e+04,  2.76768110e+04,\n",
       "        3.58853823e+04,  2.75494048e+04,  7.16807865e+02,  9.08394845e+03,\n",
       "        5.11953142e+03,  1.23735711e+04,  5.77349317e+03,  5.15551541e+03,\n",
       "        1.22297401e+03,  1.84838688e+04,  3.34637988e+03,  1.70169924e+03,\n",
       "        1.13254257e+04,  1.25688666e+04,  1.15823312e+04,  3.89118812e+03,\n",
       "        8.81845774e+03,  1.35673757e+04,  8.07362214e+03,  6.48417375e+03,\n",
       "        3.70752342e+04,  1.18410472e+04,  1.20147203e+04,  2.97987404e+04,\n",
       "        3.65419368e+04,  1.13672084e+04,  2.88098059e+04, -4.15653363e+02,\n",
       "        8.15842431e+03,  3.21776188e+04,  8.16170197e+03, -5.80902643e+02,\n",
       "        1.34324962e+03,  5.08141852e+03,  7.66027613e+03,  1.25281594e+04,\n",
       "        1.47400300e+04,  8.88786485e+03,  2.94736565e+04,  1.59493721e+04,\n",
       "        1.44644063e+04,  1.10823241e+04,  2.33156688e+03,  9.81905892e+03,\n",
       "        4.17684792e+03,  6.17453686e+03,  1.16380947e+04,  5.49511399e+03,\n",
       "        1.44371194e+04,  1.35368940e+04,  1.29567656e+04,  6.93152402e+03,\n",
       "        1.22170398e+04,  1.07737325e+04,  1.01781613e+04,  4.51445098e+03,\n",
       "        6.04095345e+03,  4.07288508e+04,  1.32533421e+04,  4.22971178e+03,\n",
       "        8.36232425e+03,  5.10409797e+03,  3.27599989e+04,  1.10368233e+04,\n",
       "        1.08378078e+04,  6.92112157e+03,  6.31196543e+03,  6.81049043e+03,\n",
       "        3.32617638e+04,  3.51535872e+04,  2.34868974e+03,  7.62654838e+03,\n",
       "        5.11912530e+03,  1.52484366e+04,  1.59630710e+03,  1.16725331e+04,\n",
       "        1.32930377e+04,  1.14208476e+04,  1.05722190e+04,  1.30853635e+04,\n",
       "        2.52660136e+03,  2.82242325e+04,  2.85209017e+03,  1.49736227e+04,\n",
       "        6.34728446e+03,  1.02594165e+04,  1.47715517e+04,  3.92349293e+04,\n",
       "        2.10047962e+03,  1.64512186e+03,  5.19386628e+03,  7.48803836e+03,\n",
       "        8.10145151e+03,  4.66137638e+03,  1.04572138e+04,  9.25525843e+03,\n",
       "        9.66304965e+03,  1.08919128e+04,  1.00585245e+04,  9.47538672e+03,\n",
       "        8.00979553e+03,  1.42567306e+03,  1.00146505e+04,  7.65475821e+03,\n",
       "        6.63471628e+03,  1.15647343e+04,  5.46833294e+03,  3.34283297e+04,\n",
       "        6.88422300e+03,  6.19170393e+03,  7.73997747e+03,  3.89000503e+04,\n",
       "        1.18217834e+04,  2.88908982e+04,  3.33795268e+03,  3.32276282e+04,\n",
       "        3.78871813e+03,  3.21690003e+04,  1.36901375e+04,  2.62854390e+03,\n",
       "        2.06490326e+03,  1.28494305e+03,  6.22545624e+03,  4.47910388e+03,\n",
       "        2.59006327e+04,  1.59757507e+04,  5.38750778e+03,  1.31665575e+04,\n",
       "        3.93309412e+04,  4.70486131e+03,  1.25236527e+04,  1.11590756e+04,\n",
       "        2.80523844e+04,  2.93690142e+03,  1.32114354e+04,  6.07062830e+03,\n",
       "        1.53887875e+04,  6.22086459e+03,  1.67152132e+04,  4.32862976e+03,\n",
       "        1.24587660e+04,  3.46907032e+04,  1.08669872e+04,  1.04391515e+04,\n",
       "        5.28304759e+03,  1.65991552e+04,  1.43077423e+04,  5.46002427e+03,\n",
       "        1.14216409e+04,  1.26089857e+04,  4.65965009e+03,  7.20971044e+03,\n",
       "        2.79797493e+04,  3.24458490e+04, -2.80471092e+02,  4.03570860e+04,\n",
       "        9.65947810e+03,  7.73481469e+03,  1.09612730e+04,  3.35810815e+04,\n",
       "        3.62123643e+04,  3.70689251e+04,  5.11240991e+03,  6.15779583e+03,\n",
       "        1.05284250e+04,  8.31585383e+03,  4.48690125e+03,  1.14816455e+04,\n",
       "        1.01917501e+04,  9.89265019e+03,  9.47630921e+03,  3.99730528e+04,\n",
       "        8.25654918e+03,  4.74205565e+03,  2.65407871e+04,  2.81756850e+04,\n",
       "        1.35353301e+03,  1.19658133e+04,  6.17771436e+03,  4.11182748e+03,\n",
       "        1.05101044e+04,  1.14204713e+04,  1.52112466e+04,  1.14688853e+04,\n",
       "        4.00221695e+03,  7.58593194e+03,  1.16301521e+04,  1.27710403e+04,\n",
       "        1.70956860e+04,  1.09689110e+04,  5.89828194e+03,  3.21414593e+04,\n",
       "        1.00577687e+04,  6.40680559e+03,  2.79432251e+03,  7.55954806e+03,\n",
       "        7.02648877e+03,  6.98769775e+03,  6.23852120e+03,  8.98952800e+03,\n",
       "        6.92364060e+03,  3.11259948e+04,  6.00124889e+03,  4.58050890e+03,\n",
       "        2.22382073e+03,  4.38926402e+03,  8.54010147e+03,  2.91843571e+03,\n",
       "        2.75617659e+04,  6.97732781e+03,  6.62333355e+03,  1.48844331e+04,\n",
       "        9.99600602e+03,  1.14120420e+04,  1.40588565e+04,  1.53041139e+04,\n",
       "        1.47928083e+04,  2.35408921e+04,  5.45606625e+03,  9.76618110e+03,\n",
       "        1.04545622e+04,  9.86591335e+03,  1.31258079e+04,  6.83776139e+03,\n",
       "        3.67185407e+03,  3.31306888e+04,  1.42933572e+04,  1.44793083e+04,\n",
       "        1.19478658e+04,  3.47061905e+03,  9.99156113e+03,  3.33436375e+03,\n",
       "        2.92911590e+03,  1.12265014e+04,  1.57392885e+04,  1.32793127e+04,\n",
       "        3.54955845e+04,  3.69917151e+03,  3.41948541e+04,  2.58713131e+03,\n",
       "        9.05071942e+03,  2.97458804e+04,  5.69437306e+03,  2.03601759e+03,\n",
       "        7.35846518e+03,  1.37191495e+04,  6.12611593e+02,  6.32136842e+03,\n",
       "        9.18785700e+03,  3.79364473e+04,  2.58894283e+04,  9.72820070e+03,\n",
       "        1.19307132e+04,  3.77736622e+04,  1.49937951e+04,  3.48762300e+03,\n",
       "        5.61617566e+03,  9.14025193e+03,  1.65803357e+04,  9.96873302e+03,\n",
       "        7.69921929e+03,  1.03947201e+04,  3.08040867e+04,  3.18046316e+04,\n",
       "        6.75850484e+03,  3.20223602e+04,  3.42800259e+04,  1.46353372e+04,\n",
       "        9.10268740e+03,  1.03310077e+04,  5.46633327e+03,  1.20971614e+04,\n",
       "        1.47335647e+04,  4.23288914e+03,  1.32568189e+04,  1.29992112e+04,\n",
       "        1.03298417e+04,  2.80075354e+04,  2.70820274e+04,  3.31135583e+04,\n",
       "        1.25252514e+04,  1.48915770e+04,  1.69449512e+04,  4.29630585e+03,\n",
       "        9.70262985e+03,  9.19416992e+03,  3.21648201e+04,  3.89685068e+04,\n",
       "        1.12870257e+04,  3.58122304e+04,  2.77084624e+04,  3.23002452e+04,\n",
       "        9.08157589e+03,  1.61147738e+04,  3.69098919e+03,  3.21740900e+03,\n",
       "        2.73105622e+04,  9.39253798e+03])"
      ]
     },
     "execution_count": 16,
     "metadata": {},
     "output_type": "execute_result"
    }
   ],
   "source": [
    "y_pred"
   ]
  },
  {
   "cell_type": "code",
   "execution_count": 17,
   "id": "2964ccbf",
   "metadata": {
    "execution": {
     "iopub.execute_input": "2023-05-29T14:48:14.939628Z",
     "iopub.status.busy": "2023-05-29T14:48:14.939173Z",
     "iopub.status.idle": "2023-05-29T14:48:14.949854Z",
     "shell.execute_reply": "2023-05-29T14:48:14.948507Z"
    },
    "papermill": {
     "duration": 0.024673,
     "end_time": "2023-05-29T14:48:14.952321",
     "exception": false,
     "start_time": "2023-05-29T14:48:14.927648",
     "status": "completed"
    },
    "tags": []
   },
   "outputs": [
    {
     "data": {
      "text/plain": [
       "0.7403677168975319"
      ]
     },
     "execution_count": 17,
     "metadata": {},
     "output_type": "execute_result"
    }
   ],
   "source": [
    "reg.score(xtest,ytest)"
   ]
  }
 ],
 "metadata": {
  "kernelspec": {
   "display_name": "Python 3",
   "language": "python",
   "name": "python3"
  },
  "language_info": {
   "codemirror_mode": {
    "name": "ipython",
    "version": 3
   },
   "file_extension": ".py",
   "mimetype": "text/x-python",
   "name": "python",
   "nbconvert_exporter": "python",
   "pygments_lexer": "ipython3",
   "version": "3.10.10"
  },
  "papermill": {
   "default_parameters": {},
   "duration": 21.68218,
   "end_time": "2023-05-29T14:48:16.087063",
   "environment_variables": {},
   "exception": null,
   "input_path": "__notebook__.ipynb",
   "output_path": "__notebook__.ipynb",
   "parameters": {},
   "start_time": "2023-05-29T14:47:54.404883",
   "version": "2.4.0"
  }
 },
 "nbformat": 4,
 "nbformat_minor": 5
}
